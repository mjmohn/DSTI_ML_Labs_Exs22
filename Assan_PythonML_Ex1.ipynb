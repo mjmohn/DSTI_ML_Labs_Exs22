{
  "nbformat": 4,
  "nbformat_minor": 0,
  "metadata": {
    "colab": {
      "name": "Assan_PythonML_Ex1.ipynb",
      "provenance": [],
      "authorship_tag": "ABX9TyMTjByC0hejUvd1+c6PdLs2",
      "include_colab_link": true
    },
    "kernelspec": {
      "name": "python3",
      "display_name": "Python 3"
    },
    "language_info": {
      "name": "python"
    }
  },
  "cells": [
    {
      "cell_type": "markdown",
      "metadata": {
        "id": "view-in-github",
        "colab_type": "text"
      },
      "source": [
        "<a href=\"https://colab.research.google.com/github/mjmohn/DSTI_ML_Labs_Exs22/blob/main/Assan_PythonML_Ex1.ipynb\" target=\"_parent\"><img src=\"https://colab.research.google.com/assets/colab-badge.svg\" alt=\"Open In Colab\"/></a>"
      ]
    },
    {
      "cell_type": "code",
      "execution_count": 1,
      "metadata": {
        "id": "stnzfMeGmmgc"
      },
      "outputs": [],
      "source": [
        "import os\n",
        "from google.colab import drive"
      ]
    },
    {
      "cell_type": "code",
      "source": [
        "drive.mount('/content/drive')"
      ],
      "metadata": {
        "colab": {
          "base_uri": "https://localhost:8080/"
        },
        "id": "_Kq99s7nn8XX",
        "outputId": "205feced-4b06-417c-c218-7722cef261de"
      },
      "execution_count": 7,
      "outputs": [
        {
          "output_type": "stream",
          "name": "stdout",
          "text": [
            "Drive already mounted at /content/drive; to attempt to forcibly remount, call drive.mount(\"/content/drive\", force_remount=True).\n"
          ]
        }
      ]
    },
    {
      "cell_type": "code",
      "source": [
        "my_path = \"/content/drive/MyDrive\""
      ],
      "metadata": {
        "id": "2XEiLNrjrtpa"
      },
      "execution_count": 8,
      "outputs": []
    },
    {
      "cell_type": "code",
      "source": [
        "def list_of_folder_jpg (input_path, fotmat_file):\n",
        "  \"\"\" This functions returns the length of files that are in the folder\n",
        "  and also list the files that are only JPEG \"\"\"\n",
        "\n",
        "  #declare a variable that is listing my files located inside a directory\n",
        "  list_of_my_path = os.listdir(input_path)\n",
        "\n",
        "  #declare a variable that is an empty list\n",
        "  good_elements = []\n",
        "\n",
        "  #start a For loop to look for all elements in my list of files and relative path format\n",
        "  for element in list_of_my_path:\n",
        "    full_path_file = os.path.join(input_path, element)\n",
        "\n",
        "    if os.path.isfile(full_path_file):\n",
        "      if full_path_file.lower().endswith('.pdf'):\n",
        "\n",
        "        good_elements.append(full_path_file)\n",
        "\n",
        "  number_of_elements = len(good_elements)\n",
        "\n",
        "  return(good_elements, number_of_elements)"
      ],
      "metadata": {
        "id": "vbSiptLaoRgp"
      },
      "execution_count": 11,
      "outputs": []
    },
    {
      "cell_type": "code",
      "source": [
        "list_of_folder_jpg(my_path, \".pdf\")"
      ],
      "metadata": {
        "colab": {
          "base_uri": "https://localhost:8080/"
        },
        "id": "M7I9NjYvqsCh",
        "outputId": "10306aee-0e23-40ee-8f2d-cfde6c413618"
      },
      "execution_count": 12,
      "outputs": [
        {
          "output_type": "execute_result",
          "data": {
            "text/plain": [
              "(['/content/drive/MyDrive/Getting started.pdf',\n",
              "  '/content/drive/MyDrive/epfo.pdf',\n",
              "  '/content/drive/MyDrive/ec-brochure-mim-gmim-mam-mfa-update-aug2018.pdf',\n",
              "  '/content/drive/MyDrive/epfo (1).pdf',\n",
              "  '/content/drive/MyDrive/travelinsurance1.pdf',\n",
              "  '/content/drive/MyDrive/Admission_Certificate_DS-Nice Campus-JAYAMOHAN Mithun.pdf'],\n",
              " 6)"
            ]
          },
          "metadata": {},
          "execution_count": 12
        }
      ]
    }
  ]
}